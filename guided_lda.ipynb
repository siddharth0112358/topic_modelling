{
 "cells": [
  {
   "cell_type": "markdown",
   "metadata": {},
   "source": [
    "#Running on OS X 10.14 w/Python3.7. I encountered the same above errors, but was able to get past them by #upgrading cython:\n",
    "\n",
    "pip3 install -U cython\n",
    "\n",
    "#removing the following 2 lines from setup.cfg:\n",
    "\n",
    "[sdist]\n",
    "pre-hook.sdist_pre_hook = guidedlda._setup_hooks.sdist_pre_hook\n",
    "\n",
    "#and then running the original installation instructions:\n",
    "\n",
    "git clone https://github.com/vi3k6i5/GuidedLDA\n",
    "cd GuidedLDA\n",
    "sh build_dist.sh\n",
    "python setup.py sdist\n",
    "pip3 install -e ."
   ]
  },
  {
   "cell_type": "code",
   "execution_count": 21,
   "metadata": {},
   "outputs": [
    {
     "name": "stdout",
     "output_type": "stream",
     "text": [
      "Requirement already satisfied: wheel in /Users/patsnap/anaconda2/lib/python3.7/site-packages (0.33.6)\r\n"
     ]
    }
   ],
   "source": [
    "!pip install wheel"
   ]
  },
  {
   "cell_type": "code",
   "execution_count": 26,
   "metadata": {},
   "outputs": [],
   "source": [
    "!find guidedlda -name '*.pyx' -exec cython {} \\;"
   ]
  },
  {
   "cell_type": "code",
   "execution_count": 30,
   "metadata": {},
   "outputs": [],
   "source": [
    "import numpy as np\n",
    "import guidedlda"
   ]
  },
  {
   "cell_type": "markdown",
   "metadata": {},
   "source": [
    "https://github.com/vi3k6i5/guidedlda"
   ]
  },
  {
   "cell_type": "markdown",
   "metadata": {},
   "source": [
    "#input below, X, is a document-term matrix"
   ]
  },
  {
   "cell_type": "code",
   "execution_count": 31,
   "metadata": {},
   "outputs": [],
   "source": [
    "X = guidedlda.datasets.load_data(guidedlda.datasets.NYT)\n",
    "vocab = guidedlda.datasets.load_vocab(guidedlda.datasets.NYT)\n",
    "word2id = dict((v, idx) for idx, v in enumerate(vocab))"
   ]
  },
  {
   "cell_type": "code",
   "execution_count": 34,
   "metadata": {},
   "outputs": [
    {
     "data": {
      "text/plain": [
       "(8447, 3012)"
      ]
     },
     "execution_count": 34,
     "metadata": {},
     "output_type": "execute_result"
    }
   ],
   "source": [
    "X.shape"
   ]
  },
  {
   "cell_type": "code",
   "execution_count": 35,
   "metadata": {},
   "outputs": [
    {
     "data": {
      "text/plain": [
       "1221626"
      ]
     },
     "execution_count": 35,
     "metadata": {},
     "output_type": "execute_result"
    }
   ],
   "source": [
    "X.sum()"
   ]
  },
  {
   "cell_type": "code",
   "execution_count": 36,
   "metadata": {},
   "outputs": [
    {
     "name": "stderr",
     "output_type": "stream",
     "text": [
      "INFO:guidedlda:n_documents: 8447\n",
      "INFO:guidedlda:vocab_size: 3012\n",
      "INFO:guidedlda:n_words: 1221626\n",
      "INFO:guidedlda:n_topics: 5\n",
      "INFO:guidedlda:n_iter: 100\n",
      "WARNING:guidedlda:all zero column in document-term matrix found\n",
      "INFO:guidedlda:<0> log likelihood: -11489265\n",
      "INFO:guidedlda:<20> log likelihood: -9844667\n",
      "INFO:guidedlda:<40> log likelihood: -9694223\n",
      "INFO:guidedlda:<60> log likelihood: -9642506\n",
      "INFO:guidedlda:<80> log likelihood: -9617962\n",
      "INFO:guidedlda:<99> log likelihood: -9604031\n"
     ]
    },
    {
     "data": {
      "text/plain": [
       "<guidedlda.guidedlda.GuidedLDA at 0x109ddc590>"
      ]
     },
     "execution_count": 36,
     "metadata": {},
     "output_type": "execute_result"
    }
   ],
   "source": [
    "# Normal LDA without seeding\n",
    "model = guidedlda.GuidedLDA(n_topics=5, n_iter=100, random_state=7, refresh=20)\n",
    "model.fit(X)"
   ]
  },
  {
   "cell_type": "code",
   "execution_count": 37,
   "metadata": {},
   "outputs": [
    {
     "name": "stdout",
     "output_type": "stream",
     "text": [
      "Topic 0: company percent market business plan pay price increase\n",
      "Topic 1: game play team win player season second start\n",
      "Topic 2: life child write man school woman father family\n",
      "Topic 3: place open small house music turn large play\n",
      "Topic 4: official state government political states issue leader case\n"
     ]
    }
   ],
   "source": [
    "topic_word = model.topic_word_\n",
    "n_top_words = 8\n",
    "for i, topic_dist in enumerate(topic_word):\n",
    "    topic_words = np.array(vocab)[np.argsort(topic_dist)][:-(n_top_words+1):-1]\n",
    "    print('Topic {}: {}'.format(i, ' '.join(topic_words)))"
   ]
  },
  {
   "cell_type": "code",
   "execution_count": 38,
   "metadata": {},
   "outputs": [],
   "source": [
    "# Guided LDA with seed topics.\n",
    "seed_topic_list = [['game', 'team', 'win', 'player', 'season', 'second', 'victory'],\n",
    "                   ['percent', 'company', 'market', 'price', 'sell', 'business', 'stock', 'share'],\n",
    "                   ['music', 'write', 'art', 'book', 'world', 'film'],\n",
    "                   ['political', 'government', 'leader', 'official', 'state', 'country', 'american','case', 'law', 'police', 'charge', 'officer', 'kill', 'arrest', 'lawyer']]\n"
   ]
  },
  {
   "cell_type": "code",
   "execution_count": 40,
   "metadata": {
    "scrolled": true
   },
   "outputs": [],
   "source": [
    "model = guidedlda.GuidedLDA(n_topics=5, n_iter=100, random_state=7, refresh=20)"
   ]
  },
  {
   "cell_type": "code",
   "execution_count": 41,
   "metadata": {},
   "outputs": [],
   "source": [
    "seed_topics = {}\n",
    "for t_id, st in enumerate(seed_topic_list):\n",
    "    for word in st:\n",
    "        seed_topics[word2id[word]] = t_id"
   ]
  },
  {
   "cell_type": "code",
   "execution_count": 42,
   "metadata": {},
   "outputs": [
    {
     "name": "stderr",
     "output_type": "stream",
     "text": [
      "INFO:guidedlda:n_documents: 8447\n",
      "INFO:guidedlda:vocab_size: 3012\n",
      "INFO:guidedlda:n_words: 1221626\n",
      "INFO:guidedlda:n_topics: 5\n",
      "INFO:guidedlda:n_iter: 100\n",
      "WARNING:guidedlda:all zero column in document-term matrix found\n",
      "INFO:guidedlda:<0> log likelihood: -11486372\n",
      "INFO:guidedlda:<20> log likelihood: -9765300\n",
      "INFO:guidedlda:<40> log likelihood: -9659651\n",
      "INFO:guidedlda:<60> log likelihood: -9622617\n",
      "INFO:guidedlda:<80> log likelihood: -9604295\n",
      "INFO:guidedlda:<99> log likelihood: -9592268\n"
     ]
    },
    {
     "data": {
      "text/plain": [
       "<guidedlda.guidedlda.GuidedLDA at 0x10a04a390>"
      ]
     },
     "execution_count": 42,
     "metadata": {},
     "output_type": "execute_result"
    }
   ],
   "source": [
    "model.fit(X, seed_topics=seed_topics, seed_confidence=0.15)"
   ]
  },
  {
   "cell_type": "code",
   "execution_count": 44,
   "metadata": {},
   "outputs": [
    {
     "name": "stdout",
     "output_type": "stream",
     "text": [
      "Topic 0: game play team win season player second point start victory\n",
      "Topic 1: company percent market price business sell pay plan executive buy\n",
      "Topic 2: play life man music place turn book woman write thing\n",
      "Topic 3: official government state political leader states issue member case country\n",
      "Topic 4: school child city family problem student life program group state\n"
     ]
    }
   ],
   "source": [
    "n_top_words = 10\n",
    "topic_word = model.topic_word_\n",
    "for i, topic_dist in enumerate(topic_word):\n",
    "    topic_words = np.array(vocab)[np.argsort(topic_dist)][:-(n_top_words+1):-1]\n",
    "    print('Topic {}: {}'.format(i, ' '.join(topic_words)))"
   ]
  },
  {
   "cell_type": "code",
   "execution_count": 45,
   "metadata": {},
   "outputs": [
    {
     "name": "stderr",
     "output_type": "stream",
     "text": [
      "WARNING:guidedlda:all zero column in document-term matrix found\n"
     ]
    },
    {
     "name": "stdout",
     "output_type": "stream",
     "text": [
      "top topic: 4 Document: plant, increase, food, increasingly, animal\n",
      "top topic: 3 Document: explain, life, country, citizen, nation\n",
      "top topic: 2 Document: thing, solve, problem, machine, carry\n",
      "top topic: 2 Document: company, authority, opera, artistic, director\n",
      "top topic: 4 Document: wife, rape, husband, file, state\n",
      "top topic: 3 Document: partner, lawyer, attorney, client, indict\n",
      "top topic: 2 Document: roll, place, soon, treat, rating\n",
      "top topic: 3 Document: city, drug, program, commission, report\n",
      "top topic: 1 Document: company, comic, series, case, executive\n"
     ]
    }
   ],
   "source": [
    "doc_topic = model.transform(X)\n",
    "for i in range(9):\n",
    "    print(\"top topic: {} Document: {}\".format(doc_topic[i].argmax(), ', '.join(np.array(vocab)[list(reversed(X[i,:].argsort()))[0:5]])))"
   ]
  },
  {
   "cell_type": "markdown",
   "metadata": {},
   "source": [
    "Saving the model"
   ]
  },
  {
   "cell_type": "code",
   "execution_count": null,
   "metadata": {},
   "outputs": [],
   "source": [
    "from six.moves import cPickle as pickle\n",
    "with open('guidedlda_model.pickle', 'wb') as file_handle:\n",
    "    pickle.dump(model, file_handle)\n",
    "# load the model for prediction\n",
    "with open('guidedlda_model.pickle', 'rb') as file_handle:\n",
    "    model = pickle.load(file_handle)\n",
    "doc_topic = model.transform(X)"
   ]
  }
 ],
 "metadata": {
  "kernelspec": {
   "display_name": "Python 3",
   "language": "python",
   "name": "python3"
  },
  "language_info": {
   "codemirror_mode": {
    "name": "ipython",
    "version": 3
   },
   "file_extension": ".py",
   "mimetype": "text/x-python",
   "name": "python",
   "nbconvert_exporter": "python",
   "pygments_lexer": "ipython3",
   "version": "3.7.5"
  }
 },
 "nbformat": 4,
 "nbformat_minor": 2
}
