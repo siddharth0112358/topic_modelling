{
 "cells": [
  {
   "cell_type": "markdown",
   "metadata": {},
   "source": [
    "https://www.kaggle.com/williamroe/bi-lstm-with-crf-for-ner"
   ]
  },
  {
   "cell_type": "code",
   "execution_count": 2,
   "metadata": {},
   "outputs": [
    {
     "name": "stderr",
     "output_type": "stream",
     "text": [
      "Using TensorFlow backend.\n"
     ]
    },
    {
     "name": "stdout",
     "output_type": "stream",
     "text": [
      "2.2.4\n"
     ]
    }
   ],
   "source": [
    "import numpy as np # linear algebra\n",
    "import pandas as pd # data processing, CSV file I/O (e.g. pd.read_csv)\n",
    "import keras\n",
    "print(keras.__version__)\n",
    "from math import nan\n",
    "from keras.callbacks import ModelCheckpoint"
   ]
  },
  {
   "cell_type": "code",
   "execution_count": 3,
   "metadata": {},
   "outputs": [
    {
     "name": "stdout",
     "output_type": "stream",
     "text": [
      "Collecting git+https://www.github.com/keras-team/keras-contrib.git\n",
      "  Cloning https://www.github.com/keras-team/keras-contrib.git to /private/var/folders/07/ch803bln2x51cptcxk5bs3gr0000gn/T/pip-req-build-yth15oiz\n",
      "  Running command git clone -q https://www.github.com/keras-team/keras-contrib.git /private/var/folders/07/ch803bln2x51cptcxk5bs3gr0000gn/T/pip-req-build-yth15oiz\n",
      "Requirement already satisfied (use --upgrade to upgrade): keras-contrib==2.0.8 from git+https://www.github.com/keras-team/keras-contrib.git in /Users/patsnap/anaconda2/lib/python3.7/site-packages\n",
      "Requirement already satisfied: keras in /Users/patsnap/anaconda2/lib/python3.7/site-packages (from keras-contrib==2.0.8) (2.2.4)\n",
      "Requirement already satisfied: keras-applications>=1.0.6 in /Users/patsnap/anaconda2/lib/python3.7/site-packages (from keras->keras-contrib==2.0.8) (1.0.8)\n",
      "Requirement already satisfied: pyyaml in /Users/patsnap/anaconda2/lib/python3.7/site-packages (from keras->keras-contrib==2.0.8) (5.1.2)\n",
      "Requirement already satisfied: numpy>=1.9.1 in /Users/patsnap/anaconda2/lib/python3.7/site-packages (from keras->keras-contrib==2.0.8) (1.18.0)\n",
      "Requirement already satisfied: scipy>=0.14 in /Users/patsnap/anaconda2/lib/python3.7/site-packages (from keras->keras-contrib==2.0.8) (1.4.1)\n",
      "Requirement already satisfied: keras-preprocessing>=1.0.5 in /Users/patsnap/anaconda2/lib/python3.7/site-packages (from keras->keras-contrib==2.0.8) (1.1.0)\n",
      "Requirement already satisfied: h5py in /Users/patsnap/anaconda2/lib/python3.7/site-packages (from keras->keras-contrib==2.0.8) (2.10.0)\n",
      "Requirement already satisfied: six>=1.9.0 in /Users/patsnap/anaconda2/lib/python3.7/site-packages (from keras->keras-contrib==2.0.8) (1.12.0)\n",
      "Building wheels for collected packages: keras-contrib\n",
      "  Building wheel for keras-contrib (setup.py) ... \u001b[?25ldone\n",
      "\u001b[?25h  Created wheel for keras-contrib: filename=keras_contrib-2.0.8-py3-none-any.whl size=101065 sha256=3e55fde8652653329819c53eda2a930ddcb4e6e35980cc5f23b9c275bd55543f\n",
      "  Stored in directory: /private/var/folders/07/ch803bln2x51cptcxk5bs3gr0000gn/T/pip-ephem-wheel-cache-pza1j2w5/wheels/bb/1f/f2/b57495012683b6b20bbae94a3915ec79753111452d79886abc\n",
      "Successfully built keras-contrib\n",
      "ner.csv\n",
      "ner_dataset.csv\n",
      "\n"
     ]
    }
   ],
   "source": [
    "!pip install git+https://www.github.com/keras-team/keras-contrib.git\n",
    "from keras_contrib.layers import CRF\n",
    "\n",
    "from subprocess import check_output\n",
    "print(check_output([\"ls\", \"/Users/patsnap/Desktop/Neo4J_and_other_codes/Topic_modelling/annotated_corpus\"]).decode(\"utf8\"))"
   ]
  },
  {
   "cell_type": "code",
   "execution_count": 4,
   "metadata": {},
   "outputs": [
    {
     "name": "stderr",
     "output_type": "stream",
     "text": [
      "b'Skipping line 281837: expected 25 fields, saw 34\\n'\n"
     ]
    }
   ],
   "source": [
    "dframe = pd.read_csv(\"/Users/patsnap/Desktop/Neo4J_and_other_codes/Topic_modelling/annotated_corpus/ner.csv\", encoding = \"ISO-8859-1\", error_bad_lines=False)"
   ]
  },
  {
   "cell_type": "code",
   "execution_count": 5,
   "metadata": {},
   "outputs": [
    {
     "data": {
      "text/html": [
       "<div>\n",
       "<style scoped>\n",
       "    .dataframe tbody tr th:only-of-type {\n",
       "        vertical-align: middle;\n",
       "    }\n",
       "\n",
       "    .dataframe tbody tr th {\n",
       "        vertical-align: top;\n",
       "    }\n",
       "\n",
       "    .dataframe thead th {\n",
       "        text-align: right;\n",
       "    }\n",
       "</style>\n",
       "<table border=\"1\" class=\"dataframe\">\n",
       "  <thead>\n",
       "    <tr style=\"text-align: right;\">\n",
       "      <th></th>\n",
       "      <th>Unnamed: 0</th>\n",
       "      <th>lemma</th>\n",
       "      <th>next-lemma</th>\n",
       "      <th>next-next-lemma</th>\n",
       "      <th>next-next-pos</th>\n",
       "      <th>next-next-shape</th>\n",
       "      <th>next-next-word</th>\n",
       "      <th>next-pos</th>\n",
       "      <th>next-shape</th>\n",
       "      <th>next-word</th>\n",
       "      <th>...</th>\n",
       "      <th>prev-prev-lemma</th>\n",
       "      <th>prev-prev-pos</th>\n",
       "      <th>prev-prev-shape</th>\n",
       "      <th>prev-prev-word</th>\n",
       "      <th>prev-shape</th>\n",
       "      <th>prev-word</th>\n",
       "      <th>sentence_idx</th>\n",
       "      <th>shape</th>\n",
       "      <th>word</th>\n",
       "      <th>tag</th>\n",
       "    </tr>\n",
       "  </thead>\n",
       "  <tbody>\n",
       "    <tr>\n",
       "      <th>0</th>\n",
       "      <td>0</td>\n",
       "      <td>thousand</td>\n",
       "      <td>of</td>\n",
       "      <td>demonstr</td>\n",
       "      <td>NNS</td>\n",
       "      <td>lowercase</td>\n",
       "      <td>demonstrators</td>\n",
       "      <td>IN</td>\n",
       "      <td>lowercase</td>\n",
       "      <td>of</td>\n",
       "      <td>...</td>\n",
       "      <td>__start2__</td>\n",
       "      <td>__START2__</td>\n",
       "      <td>wildcard</td>\n",
       "      <td>__START2__</td>\n",
       "      <td>wildcard</td>\n",
       "      <td>__START1__</td>\n",
       "      <td>1.0</td>\n",
       "      <td>capitalized</td>\n",
       "      <td>Thousands</td>\n",
       "      <td>O</td>\n",
       "    </tr>\n",
       "    <tr>\n",
       "      <th>1</th>\n",
       "      <td>1</td>\n",
       "      <td>of</td>\n",
       "      <td>demonstr</td>\n",
       "      <td>have</td>\n",
       "      <td>VBP</td>\n",
       "      <td>lowercase</td>\n",
       "      <td>have</td>\n",
       "      <td>NNS</td>\n",
       "      <td>lowercase</td>\n",
       "      <td>demonstrators</td>\n",
       "      <td>...</td>\n",
       "      <td>__start1__</td>\n",
       "      <td>__START1__</td>\n",
       "      <td>wildcard</td>\n",
       "      <td>__START1__</td>\n",
       "      <td>capitalized</td>\n",
       "      <td>Thousands</td>\n",
       "      <td>1.0</td>\n",
       "      <td>lowercase</td>\n",
       "      <td>of</td>\n",
       "      <td>O</td>\n",
       "    </tr>\n",
       "    <tr>\n",
       "      <th>2</th>\n",
       "      <td>2</td>\n",
       "      <td>demonstr</td>\n",
       "      <td>have</td>\n",
       "      <td>march</td>\n",
       "      <td>VBN</td>\n",
       "      <td>lowercase</td>\n",
       "      <td>marched</td>\n",
       "      <td>VBP</td>\n",
       "      <td>lowercase</td>\n",
       "      <td>have</td>\n",
       "      <td>...</td>\n",
       "      <td>thousand</td>\n",
       "      <td>NNS</td>\n",
       "      <td>capitalized</td>\n",
       "      <td>Thousands</td>\n",
       "      <td>lowercase</td>\n",
       "      <td>of</td>\n",
       "      <td>1.0</td>\n",
       "      <td>lowercase</td>\n",
       "      <td>demonstrators</td>\n",
       "      <td>O</td>\n",
       "    </tr>\n",
       "    <tr>\n",
       "      <th>3</th>\n",
       "      <td>3</td>\n",
       "      <td>have</td>\n",
       "      <td>march</td>\n",
       "      <td>through</td>\n",
       "      <td>IN</td>\n",
       "      <td>lowercase</td>\n",
       "      <td>through</td>\n",
       "      <td>VBN</td>\n",
       "      <td>lowercase</td>\n",
       "      <td>marched</td>\n",
       "      <td>...</td>\n",
       "      <td>of</td>\n",
       "      <td>IN</td>\n",
       "      <td>lowercase</td>\n",
       "      <td>of</td>\n",
       "      <td>lowercase</td>\n",
       "      <td>demonstrators</td>\n",
       "      <td>1.0</td>\n",
       "      <td>lowercase</td>\n",
       "      <td>have</td>\n",
       "      <td>O</td>\n",
       "    </tr>\n",
       "    <tr>\n",
       "      <th>4</th>\n",
       "      <td>4</td>\n",
       "      <td>march</td>\n",
       "      <td>through</td>\n",
       "      <td>london</td>\n",
       "      <td>NNP</td>\n",
       "      <td>capitalized</td>\n",
       "      <td>London</td>\n",
       "      <td>IN</td>\n",
       "      <td>lowercase</td>\n",
       "      <td>through</td>\n",
       "      <td>...</td>\n",
       "      <td>demonstr</td>\n",
       "      <td>NNS</td>\n",
       "      <td>lowercase</td>\n",
       "      <td>demonstrators</td>\n",
       "      <td>lowercase</td>\n",
       "      <td>have</td>\n",
       "      <td>1.0</td>\n",
       "      <td>lowercase</td>\n",
       "      <td>marched</td>\n",
       "      <td>O</td>\n",
       "    </tr>\n",
       "    <tr>\n",
       "      <th>...</th>\n",
       "      <td>...</td>\n",
       "      <td>...</td>\n",
       "      <td>...</td>\n",
       "      <td>...</td>\n",
       "      <td>...</td>\n",
       "      <td>...</td>\n",
       "      <td>...</td>\n",
       "      <td>...</td>\n",
       "      <td>...</td>\n",
       "      <td>...</td>\n",
       "      <td>...</td>\n",
       "      <td>...</td>\n",
       "      <td>...</td>\n",
       "      <td>...</td>\n",
       "      <td>...</td>\n",
       "      <td>...</td>\n",
       "      <td>...</td>\n",
       "      <td>...</td>\n",
       "      <td>...</td>\n",
       "      <td>...</td>\n",
       "      <td>...</td>\n",
       "    </tr>\n",
       "    <tr>\n",
       "      <th>1050790</th>\n",
       "      <td>1048570</td>\n",
       "      <td>they</td>\n",
       "      <td>respond</td>\n",
       "      <td>to</td>\n",
       "      <td>TO</td>\n",
       "      <td>lowercase</td>\n",
       "      <td>to</td>\n",
       "      <td>VBD</td>\n",
       "      <td>lowercase</td>\n",
       "      <td>responded</td>\n",
       "      <td>...</td>\n",
       "      <td>forc</td>\n",
       "      <td>NNS</td>\n",
       "      <td>lowercase</td>\n",
       "      <td>forces</td>\n",
       "      <td>lowercase</td>\n",
       "      <td>said</td>\n",
       "      <td>47959.0</td>\n",
       "      <td>lowercase</td>\n",
       "      <td>they</td>\n",
       "      <td>O</td>\n",
       "    </tr>\n",
       "    <tr>\n",
       "      <th>1050791</th>\n",
       "      <td>1048571</td>\n",
       "      <td>respond</td>\n",
       "      <td>to</td>\n",
       "      <td>the</td>\n",
       "      <td>DT</td>\n",
       "      <td>lowercase</td>\n",
       "      <td>the</td>\n",
       "      <td>TO</td>\n",
       "      <td>lowercase</td>\n",
       "      <td>to</td>\n",
       "      <td>...</td>\n",
       "      <td>said</td>\n",
       "      <td>VBD</td>\n",
       "      <td>lowercase</td>\n",
       "      <td>said</td>\n",
       "      <td>lowercase</td>\n",
       "      <td>they</td>\n",
       "      <td>47959.0</td>\n",
       "      <td>lowercase</td>\n",
       "      <td>responded</td>\n",
       "      <td>O</td>\n",
       "    </tr>\n",
       "    <tr>\n",
       "      <th>1050792</th>\n",
       "      <td>1048572</td>\n",
       "      <td>to</td>\n",
       "      <td>the</td>\n",
       "      <td>attack</td>\n",
       "      <td>NN</td>\n",
       "      <td>lowercase</td>\n",
       "      <td>attack</td>\n",
       "      <td>DT</td>\n",
       "      <td>lowercase</td>\n",
       "      <td>the</td>\n",
       "      <td>...</td>\n",
       "      <td>they</td>\n",
       "      <td>PRP</td>\n",
       "      <td>lowercase</td>\n",
       "      <td>they</td>\n",
       "      <td>lowercase</td>\n",
       "      <td>responded</td>\n",
       "      <td>47959.0</td>\n",
       "      <td>lowercase</td>\n",
       "      <td>to</td>\n",
       "      <td>O</td>\n",
       "    </tr>\n",
       "    <tr>\n",
       "      <th>1050793</th>\n",
       "      <td>1048573</td>\n",
       "      <td>the</td>\n",
       "      <td>attack</td>\n",
       "      <td>with</td>\n",
       "      <td>IN</td>\n",
       "      <td>lowercase</td>\n",
       "      <td>with</td>\n",
       "      <td>NN</td>\n",
       "      <td>lowercase</td>\n",
       "      <td>attack</td>\n",
       "      <td>...</td>\n",
       "      <td>respond</td>\n",
       "      <td>VBD</td>\n",
       "      <td>lowercase</td>\n",
       "      <td>responded</td>\n",
       "      <td>lowercase</td>\n",
       "      <td>to</td>\n",
       "      <td>47959.0</td>\n",
       "      <td>lowercase</td>\n",
       "      <td>the</td>\n",
       "      <td>O</td>\n",
       "    </tr>\n",
       "    <tr>\n",
       "      <th>1050794</th>\n",
       "      <td>1048574</td>\n",
       "      <td>attack</td>\n",
       "      <td>with</td>\n",
       "      <td>machine-gun</td>\n",
       "      <td>JJ</td>\n",
       "      <td>contains-hyphen</td>\n",
       "      <td>machine-gun</td>\n",
       "      <td>IN</td>\n",
       "      <td>lowercase</td>\n",
       "      <td>with</td>\n",
       "      <td>...</td>\n",
       "      <td>to</td>\n",
       "      <td>TO</td>\n",
       "      <td>lowercase</td>\n",
       "      <td>to</td>\n",
       "      <td>lowercase</td>\n",
       "      <td>the</td>\n",
       "      <td>47959.0</td>\n",
       "      <td>lowercase</td>\n",
       "      <td>attack</td>\n",
       "      <td>O</td>\n",
       "    </tr>\n",
       "  </tbody>\n",
       "</table>\n",
       "<p>1050795 rows × 25 columns</p>\n",
       "</div>"
      ],
      "text/plain": [
       "         Unnamed: 0     lemma next-lemma next-next-lemma next-next-pos  \\\n",
       "0                 0  thousand         of        demonstr           NNS   \n",
       "1                 1        of   demonstr            have           VBP   \n",
       "2                 2  demonstr       have           march           VBN   \n",
       "3                 3      have      march         through            IN   \n",
       "4                 4     march    through          london           NNP   \n",
       "...             ...       ...        ...             ...           ...   \n",
       "1050790     1048570      they    respond              to            TO   \n",
       "1050791     1048571   respond         to             the            DT   \n",
       "1050792     1048572        to        the          attack            NN   \n",
       "1050793     1048573       the     attack            with            IN   \n",
       "1050794     1048574    attack       with     machine-gun            JJ   \n",
       "\n",
       "         next-next-shape next-next-word next-pos next-shape      next-word  \\\n",
       "0              lowercase  demonstrators       IN  lowercase             of   \n",
       "1              lowercase           have      NNS  lowercase  demonstrators   \n",
       "2              lowercase        marched      VBP  lowercase           have   \n",
       "3              lowercase        through      VBN  lowercase        marched   \n",
       "4            capitalized         London       IN  lowercase        through   \n",
       "...                  ...            ...      ...        ...            ...   \n",
       "1050790        lowercase             to      VBD  lowercase      responded   \n",
       "1050791        lowercase            the       TO  lowercase             to   \n",
       "1050792        lowercase         attack       DT  lowercase            the   \n",
       "1050793        lowercase           with       NN  lowercase         attack   \n",
       "1050794  contains-hyphen    machine-gun       IN  lowercase           with   \n",
       "\n",
       "         ... prev-prev-lemma prev-prev-pos prev-prev-shape prev-prev-word  \\\n",
       "0        ...      __start2__    __START2__        wildcard     __START2__   \n",
       "1        ...      __start1__    __START1__        wildcard     __START1__   \n",
       "2        ...        thousand           NNS     capitalized      Thousands   \n",
       "3        ...              of            IN       lowercase             of   \n",
       "4        ...        demonstr           NNS       lowercase  demonstrators   \n",
       "...      ...             ...           ...             ...            ...   \n",
       "1050790  ...            forc           NNS       lowercase         forces   \n",
       "1050791  ...            said           VBD       lowercase           said   \n",
       "1050792  ...            they           PRP       lowercase           they   \n",
       "1050793  ...         respond           VBD       lowercase      responded   \n",
       "1050794  ...              to            TO       lowercase             to   \n",
       "\n",
       "          prev-shape      prev-word sentence_idx        shape           word  \\\n",
       "0           wildcard     __START1__          1.0  capitalized      Thousands   \n",
       "1        capitalized      Thousands          1.0    lowercase             of   \n",
       "2          lowercase             of          1.0    lowercase  demonstrators   \n",
       "3          lowercase  demonstrators          1.0    lowercase           have   \n",
       "4          lowercase           have          1.0    lowercase        marched   \n",
       "...              ...            ...          ...          ...            ...   \n",
       "1050790    lowercase           said      47959.0    lowercase           they   \n",
       "1050791    lowercase           they      47959.0    lowercase      responded   \n",
       "1050792    lowercase      responded      47959.0    lowercase             to   \n",
       "1050793    lowercase             to      47959.0    lowercase            the   \n",
       "1050794    lowercase            the      47959.0    lowercase         attack   \n",
       "\n",
       "        tag  \n",
       "0         O  \n",
       "1         O  \n",
       "2         O  \n",
       "3         O  \n",
       "4         O  \n",
       "...      ..  \n",
       "1050790   O  \n",
       "1050791   O  \n",
       "1050792   O  \n",
       "1050793   O  \n",
       "1050794   O  \n",
       "\n",
       "[1050795 rows x 25 columns]"
      ]
     },
     "execution_count": 5,
     "metadata": {},
     "output_type": "execute_result"
    }
   ],
   "source": [
    "dframe"
   ]
  },
  {
   "cell_type": "code",
   "execution_count": 6,
   "metadata": {},
   "outputs": [
    {
     "data": {
      "text/plain": [
       "Index(['Unnamed: 0', 'lemma', 'next-lemma', 'next-next-lemma', 'next-next-pos',\n",
       "       'next-next-shape', 'next-next-word', 'next-pos', 'next-shape',\n",
       "       'next-word', 'pos', 'prev-iob', 'prev-lemma', 'prev-pos',\n",
       "       'prev-prev-iob', 'prev-prev-lemma', 'prev-prev-pos', 'prev-prev-shape',\n",
       "       'prev-prev-word', 'prev-shape', 'prev-word', 'sentence_idx', 'shape',\n",
       "       'word', 'tag'],\n",
       "      dtype='object')"
      ]
     },
     "execution_count": 6,
     "metadata": {},
     "output_type": "execute_result"
    }
   ],
   "source": [
    "dframe.columns"
   ]
  },
  {
   "cell_type": "code",
   "execution_count": 7,
   "metadata": {},
   "outputs": [],
   "source": [
    "dataset=dframe.drop(['Unnamed: 0', 'lemma', 'next-lemma', 'next-next-lemma', 'next-next-pos',\n",
    "       'next-next-shape', 'next-next-word', 'next-pos', 'next-shape',\n",
    "       'next-word', 'prev-iob', 'prev-lemma', 'prev-pos',\n",
    "       'prev-prev-iob', 'prev-prev-lemma', 'prev-prev-pos', 'prev-prev-shape',\n",
    "       'prev-prev-word', 'prev-shape', 'prev-word',\"pos\"],axis=1)"
   ]
  },
  {
   "cell_type": "code",
   "execution_count": 8,
   "metadata": {},
   "outputs": [
    {
     "name": "stdout",
     "output_type": "stream",
     "text": [
      "<class 'pandas.core.frame.DataFrame'>\n",
      "RangeIndex: 1050795 entries, 0 to 1050794\n",
      "Data columns (total 4 columns):\n",
      "sentence_idx    1050794 non-null float64\n",
      "shape           1050794 non-null object\n",
      "word            1050794 non-null object\n",
      "tag             1050794 non-null object\n",
      "dtypes: float64(1), object(3)\n",
      "memory usage: 32.1+ MB\n"
     ]
    },
    {
     "data": {
      "text/html": [
       "<div>\n",
       "<style scoped>\n",
       "    .dataframe tbody tr th:only-of-type {\n",
       "        vertical-align: middle;\n",
       "    }\n",
       "\n",
       "    .dataframe tbody tr th {\n",
       "        vertical-align: top;\n",
       "    }\n",
       "\n",
       "    .dataframe thead th {\n",
       "        text-align: right;\n",
       "    }\n",
       "</style>\n",
       "<table border=\"1\" class=\"dataframe\">\n",
       "  <thead>\n",
       "    <tr style=\"text-align: right;\">\n",
       "      <th></th>\n",
       "      <th>sentence_idx</th>\n",
       "      <th>shape</th>\n",
       "      <th>word</th>\n",
       "      <th>tag</th>\n",
       "    </tr>\n",
       "  </thead>\n",
       "  <tbody>\n",
       "    <tr>\n",
       "      <th>0</th>\n",
       "      <td>1.0</td>\n",
       "      <td>capitalized</td>\n",
       "      <td>Thousands</td>\n",
       "      <td>O</td>\n",
       "    </tr>\n",
       "    <tr>\n",
       "      <th>1</th>\n",
       "      <td>1.0</td>\n",
       "      <td>lowercase</td>\n",
       "      <td>of</td>\n",
       "      <td>O</td>\n",
       "    </tr>\n",
       "    <tr>\n",
       "      <th>2</th>\n",
       "      <td>1.0</td>\n",
       "      <td>lowercase</td>\n",
       "      <td>demonstrators</td>\n",
       "      <td>O</td>\n",
       "    </tr>\n",
       "    <tr>\n",
       "      <th>3</th>\n",
       "      <td>1.0</td>\n",
       "      <td>lowercase</td>\n",
       "      <td>have</td>\n",
       "      <td>O</td>\n",
       "    </tr>\n",
       "    <tr>\n",
       "      <th>4</th>\n",
       "      <td>1.0</td>\n",
       "      <td>lowercase</td>\n",
       "      <td>marched</td>\n",
       "      <td>O</td>\n",
       "    </tr>\n",
       "  </tbody>\n",
       "</table>\n",
       "</div>"
      ],
      "text/plain": [
       "   sentence_idx        shape           word tag\n",
       "0           1.0  capitalized      Thousands   O\n",
       "1           1.0    lowercase             of   O\n",
       "2           1.0    lowercase  demonstrators   O\n",
       "3           1.0    lowercase           have   O\n",
       "4           1.0    lowercase        marched   O"
      ]
     },
     "execution_count": 8,
     "metadata": {},
     "output_type": "execute_result"
    }
   ],
   "source": [
    "dataset.info()\n",
    "dataset.head()"
   ]
  },
  {
   "cell_type": "code",
   "execution_count": 9,
   "metadata": {},
   "outputs": [
    {
     "data": {
      "text/html": [
       "<div>\n",
       "<style scoped>\n",
       "    .dataframe tbody tr th:only-of-type {\n",
       "        vertical-align: middle;\n",
       "    }\n",
       "\n",
       "    .dataframe tbody tr th {\n",
       "        vertical-align: top;\n",
       "    }\n",
       "\n",
       "    .dataframe thead th {\n",
       "        text-align: right;\n",
       "    }\n",
       "</style>\n",
       "<table border=\"1\" class=\"dataframe\">\n",
       "  <thead>\n",
       "    <tr style=\"text-align: right;\">\n",
       "      <th></th>\n",
       "      <th>sentence_idx</th>\n",
       "      <th>word</th>\n",
       "      <th>tag</th>\n",
       "    </tr>\n",
       "  </thead>\n",
       "  <tbody>\n",
       "    <tr>\n",
       "      <th>0</th>\n",
       "      <td>1.0</td>\n",
       "      <td>Thousands</td>\n",
       "      <td>O</td>\n",
       "    </tr>\n",
       "    <tr>\n",
       "      <th>1</th>\n",
       "      <td>1.0</td>\n",
       "      <td>of</td>\n",
       "      <td>O</td>\n",
       "    </tr>\n",
       "    <tr>\n",
       "      <th>2</th>\n",
       "      <td>1.0</td>\n",
       "      <td>demonstrators</td>\n",
       "      <td>O</td>\n",
       "    </tr>\n",
       "    <tr>\n",
       "      <th>3</th>\n",
       "      <td>1.0</td>\n",
       "      <td>have</td>\n",
       "      <td>O</td>\n",
       "    </tr>\n",
       "    <tr>\n",
       "      <th>4</th>\n",
       "      <td>1.0</td>\n",
       "      <td>marched</td>\n",
       "      <td>O</td>\n",
       "    </tr>\n",
       "  </tbody>\n",
       "</table>\n",
       "</div>"
      ],
      "text/plain": [
       "   sentence_idx           word tag\n",
       "0           1.0      Thousands   O\n",
       "1           1.0             of   O\n",
       "2           1.0  demonstrators   O\n",
       "3           1.0           have   O\n",
       "4           1.0        marched   O"
      ]
     },
     "execution_count": 9,
     "metadata": {},
     "output_type": "execute_result"
    }
   ],
   "source": [
    "dataset=dataset.drop(['shape'],axis=1)\n",
    "dataset.head()"
   ]
  },
  {
   "cell_type": "code",
   "execution_count": 10,
   "metadata": {},
   "outputs": [],
   "source": [
    "class SentenceGetter(object):\n",
    "    \n",
    "    def __init__(self, dataset):\n",
    "        self.n_sent = 1\n",
    "        self.dataset = dataset\n",
    "        self.empty = False\n",
    "        agg_func = lambda s: [(w, t) for w,t in zip(s[\"word\"].values.tolist(),\n",
    "                                                        s[\"tag\"].values.tolist())]\n",
    "        self.grouped = self.dataset.groupby(\"sentence_idx\").apply(agg_func)\n",
    "        self.sentences = [s for s in self.grouped]\n",
    "    \n",
    "    def get_next(self):\n",
    "        try:\n",
    "            s = self.grouped[\"Sentence: {}\".format(self.n_sent)]\n",
    "            self.n_sent += 1\n",
    "            return s\n",
    "        except:\n",
    "            return None"
   ]
  },
  {
   "cell_type": "code",
   "execution_count": 11,
   "metadata": {},
   "outputs": [
    {
     "name": "stdout",
     "output_type": "stream",
     "text": [
      "[('The', 'O'), ('party', 'O'), ('is', 'O'), ('divided', 'O'), ('over', 'O'), ('Britain', 'B-gpe'), (\"'s\", 'O'), ('participation', 'O'), ('in', 'O'), ('the', 'O'), ('Iraq', 'B-geo'), ('conflict', 'O'), ('and', 'O'), ('the', 'O'), ('continued', 'O'), ('deployment', 'O'), ('of', 'O'), ('8,500', 'O'), ('British', 'B-gpe'), ('troops', 'O'), ('in', 'O'), ('that', 'O'), ('country', 'O'), ('.', 'O'), ('The', 'O'), ('party', 'O'), ('is', 'O'), ('divided', 'O'), ('over', 'O'), ('Britain', 'B-gpe'), (\"'s\", 'O'), ('participation', 'O'), ('in', 'O'), ('the', 'O'), ('Iraq', 'B-geo'), ('conflict', 'O'), ('and', 'O'), ('the', 'O'), ('continued', 'O'), ('deployment', 'O'), ('of', 'O'), ('8,500', 'O'), ('British', 'B-gpe'), ('troops', 'O'), ('in', 'O'), ('that', 'O'), ('country', 'O'), ('.', 'O')]\n"
     ]
    }
   ],
   "source": [
    "getter = SentenceGetter(dataset)\n",
    "sentences = getter.sentences\n",
    "print(sentences[5])"
   ]
  },
  {
   "cell_type": "code",
   "execution_count": 12,
   "metadata": {},
   "outputs": [
    {
     "name": "stdout",
     "output_type": "stream",
     "text": [
      "Maximum sequence length: 140\n"
     ]
    }
   ],
   "source": [
    "maxlen = max([len(s) for s in sentences])\n",
    "print ('Maximum sequence length:', maxlen)"
   ]
  },
  {
   "cell_type": "code",
   "execution_count": 13,
   "metadata": {},
   "outputs": [
    {
     "data": {
      "image/png": "[encoded data removed]",
      "text/plain": [
       "<Figure size 432x288 with 1 Axes>"
      ]
     },
     "metadata": {},
     "output_type": "display_data"
    }
   ],
   "source": [
    "# Check how long sentences are so that we can pad them\n",
    "import matplotlib.pyplot as plt\n",
    "%matplotlib inline\n",
    "plt.style.use(\"ggplot\")\n",
    "plt.hist([len(s) for s in sentences], bins=50)\n",
    "plt.show()"
   ]
  },
  {
   "cell_type": "code",
   "execution_count": 14,
   "metadata": {},
   "outputs": [
    {
     "data": {
      "text/plain": [
       "30174"
      ]
     },
     "execution_count": 14,
     "metadata": {},
     "output_type": "execute_result"
    }
   ],
   "source": [
    "words = list(set(dataset[\"word\"].values))\n",
    "words.append(\"ENDPAD\")\n",
    "n_words = len(words); n_words"
   ]
  },
  {
   "cell_type": "code",
   "execution_count": 15,
   "metadata": {},
   "outputs": [
    {
     "name": "stdout",
     "output_type": "stream",
     "text": [
      "['I-tim', 'B-eve', 'unk', 'O', 'B-per', 'B-art', 'B-geo', 'I-eve', 'I-per', 'I-nat', 'B-tim', 'B-gpe', 'B-org', 'I-org', 'I-art', 'B-nat', 'I-gpe', 'I-geo']\n"
     ]
    },
    {
     "data": {
      "text/plain": [
       "18"
      ]
     },
     "execution_count": 15,
     "metadata": {},
     "output_type": "execute_result"
    }
   ],
   "source": [
    "tags = []\n",
    "for tag in set(dataset[\"tag\"].values):\n",
    "    if tag is nan or isinstance(tag, float):\n",
    "        tags.append('unk')\n",
    "    else:\n",
    "        tags.append(tag)\n",
    "print(tags)\n",
    "n_tags = len(tags); n_tags"
   ]
  },
  {
   "cell_type": "code",
   "execution_count": 16,
   "metadata": {},
   "outputs": [],
   "source": [
    "from future.utils import iteritems\n",
    "word2idx = {w: i for i, w in enumerate(words)}\n",
    "tag2idx = {t: i for i, t in enumerate(tags)}\n",
    "idx2tag = {v: k for k, v in iteritems(tag2idx)}"
   ]
  },
  {
   "cell_type": "code",
   "execution_count": 17,
   "metadata": {},
   "outputs": [
    {
     "data": {
      "text/plain": [
       "4499"
      ]
     },
     "execution_count": 17,
     "metadata": {},
     "output_type": "execute_result"
    }
   ],
   "source": [
    "word2idx['Obama']"
   ]
  },
  {
   "cell_type": "code",
   "execution_count": 18,
   "metadata": {},
   "outputs": [
    {
     "data": {
      "text/plain": [
       "{'I-tim': 0,\n",
       " 'B-eve': 1,\n",
       " 'unk': 2,\n",
       " 'O': 3,\n",
       " 'B-per': 4,\n",
       " 'B-art': 5,\n",
       " 'B-geo': 6,\n",
       " 'I-eve': 7,\n",
       " 'I-per': 8,\n",
       " 'I-nat': 9,\n",
       " 'B-tim': 10,\n",
       " 'B-gpe': 11,\n",
       " 'B-org': 12,\n",
       " 'I-org': 13,\n",
       " 'I-art': 14,\n",
       " 'B-nat': 15,\n",
       " 'I-gpe': 16,\n",
       " 'I-geo': 17}"
      ]
     },
     "execution_count": 18,
     "metadata": {},
     "output_type": "execute_result"
    }
   ],
   "source": [
    "tag2idx"
   ]
  },
  {
   "cell_type": "code",
   "execution_count": 19,
   "metadata": {},
   "outputs": [],
   "source": [
    "from keras.preprocessing.sequence import pad_sequences\n",
    "X = [[word2idx[w[0]] for w in s] for s in sentences]"
   ]
  },
  {
   "cell_type": "code",
   "execution_count": 20,
   "metadata": {},
   "outputs": [],
   "source": [
    "X = pad_sequences(maxlen=140, sequences=X, padding=\"post\",value=n_words - 1)"
   ]
  },
  {
   "cell_type": "code",
   "execution_count": 21,
   "metadata": {},
   "outputs": [
    {
     "name": "stdout",
     "output_type": "stream",
     "text": [
      "[('The', 'O'), ('Pakistani', 'B-gpe'), ('military', 'O'), ('launched', 'O'), ('its', 'O'), ('offensive', 'O'), ('in', 'O'), ('Orakzai', 'B-geo'), ('to', 'O'), ('hunt', 'O'), ('Taliban', 'B-org'), ('insurgents', 'O'), ('.', 'O'), ('The', 'O'), ('Pakistani', 'B-gpe'), ('military', 'O'), ('launched', 'O'), ('its', 'O'), ('offensive', 'O'), ('in', 'O'), ('Orakzai', 'B-geo'), ('to', 'O'), ('hunt', 'O'), ('Taliban', 'B-org'), ('insurgents', 'O'), ('.', 'O')]\n",
      "[3, 11, 3, 3, 3, 3, 3, 6, 3, 3, 12, 3, 3, 3, 11, 3, 3, 3, 3, 3, 6, 3, 3, 12, 3, 3]\n"
     ]
    }
   ],
   "source": [
    "y_idx = [[tag2idx[w[1]] for w in s] for s in sentences]\n",
    "print(sentences[100])\n",
    "print(y_idx[100])"
   ]
  },
  {
   "cell_type": "code",
   "execution_count": 22,
   "metadata": {},
   "outputs": [
    {
     "name": "stdout",
     "output_type": "stream",
     "text": [
      "[3, 11, 3, 3, 3, 3, 3, 6, 3, 3, 12, 3, 3, 3, 11, 3, 3, 3, 3, 3, 6, 3, 3, 12, 3, 3]\n"
     ]
    }
   ],
   "source": [
    "y = pad_sequences(maxlen=140, sequences=y_idx, padding=\"post\", value=tag2idx[\"O\"])\n",
    "print(y_idx[100])"
   ]
  },
  {
   "cell_type": "code",
   "execution_count": 23,
   "metadata": {},
   "outputs": [],
   "source": [
    "from keras.utils import to_categorical\n",
    "y = [to_categorical(i, num_classes=n_tags) for i in y]"
   ]
  },
  {
   "cell_type": "code",
   "execution_count": 24,
   "metadata": {},
   "outputs": [],
   "source": [
    "from sklearn.model_selection import train_test_split\n",
    "X_train, X_test, y_train, y_test = train_test_split(X, y, test_size=0.2)"
   ]
  },
  {
   "cell_type": "code",
   "execution_count": 25,
   "metadata": {},
   "outputs": [],
   "source": [
    "from keras.models import Model, Input\n",
    "from keras.layers import LSTM, Embedding, Dense, TimeDistributed, Dropout, Bidirectional\n",
    "import keras as k"
   ]
  },
  {
   "cell_type": "code",
   "execution_count": 26,
   "metadata": {},
   "outputs": [
    {
     "name": "stdout",
     "output_type": "stream",
     "text": [
      "WARNING:tensorflow:From /Users/patsnap/anaconda2/lib/python3.7/site-packages/keras/backend/tensorflow_backend.py:74: The name tf.get_default_graph is deprecated. Please use tf.compat.v1.get_default_graph instead.\n",
      "\n",
      "WARNING:tensorflow:From /Users/patsnap/anaconda2/lib/python3.7/site-packages/keras/backend/tensorflow_backend.py:517: The name tf.placeholder is deprecated. Please use tf.compat.v1.placeholder instead.\n",
      "\n",
      "WARNING:tensorflow:From /Users/patsnap/anaconda2/lib/python3.7/site-packages/keras/backend/tensorflow_backend.py:4138: The name tf.random_uniform is deprecated. Please use tf.random.uniform instead.\n",
      "\n",
      "WARNING:tensorflow:From /Users/patsnap/anaconda2/lib/python3.7/site-packages/keras/backend/tensorflow_backend.py:4185: The name tf.truncated_normal is deprecated. Please use tf.random.truncated_normal instead.\n",
      "\n",
      "WARNING:tensorflow:From /Users/patsnap/anaconda2/lib/python3.7/site-packages/keras/backend/tensorflow_backend.py:133: The name tf.placeholder_with_default is deprecated. Please use tf.compat.v1.placeholder_with_default instead.\n",
      "\n",
      "WARNING:tensorflow:From /Users/patsnap/anaconda2/lib/python3.7/site-packages/keras/backend/tensorflow_backend.py:3445: calling dropout (from tensorflow.python.ops.nn_ops) with keep_prob is deprecated and will be removed in a future version.\n",
      "Instructions for updating:\n",
      "Please use `rate` instead of `keep_prob`. Rate should be set to `rate = 1 - keep_prob`.\n"
     ]
    }
   ],
   "source": [
    "input = Input(shape=(140,))\n",
    "word_embedding_size = 300\n",
    "model = Embedding(input_dim=n_words, output_dim=word_embedding_size, input_length=140)(input)\n",
    "model = Bidirectional(LSTM(units=word_embedding_size, \n",
    "                           return_sequences=True, \n",
    "                           dropout=0.5, \n",
    "                           recurrent_dropout=0.5, \n",
    "                           kernel_initializer=k.initializers.he_normal()))(model)\n",
    "model = LSTM(units=word_embedding_size * 2, \n",
    "             return_sequences=True, \n",
    "             dropout=0.5, \n",
    "             recurrent_dropout=0.5, \n",
    "             kernel_initializer=k.initializers.he_normal())(model)\n",
    "model = TimeDistributed(Dense(n_tags, activation=\"relu\"))(model)  # previously softmax output layer\n",
    "\n",
    "crf = CRF(n_tags)  # CRF layer\n",
    "out = crf(model)  # output"
   ]
  },
  {
   "cell_type": "code",
   "execution_count": 27,
   "metadata": {},
   "outputs": [],
   "source": [
    "model = Model(input, out)"
   ]
  },
  {
   "cell_type": "code",
   "execution_count": 28,
   "metadata": {},
   "outputs": [
    {
     "name": "stdout",
     "output_type": "stream",
     "text": [
      "WARNING:tensorflow:From /Users/patsnap/anaconda2/lib/python3.7/site-packages/keras/optimizers.py:790: The name tf.train.Optimizer is deprecated. Please use tf.compat.v1.train.Optimizer instead.\n",
      "\n",
      "WARNING:tensorflow:From /Users/patsnap/anaconda2/lib/python3.7/site-packages/tensorflow_core/python/ops/math_ops.py:2509: where (from tensorflow.python.ops.array_ops) is deprecated and will be removed in a future version.\n",
      "Instructions for updating:\n",
      "Use tf.where in 2.0, which has the same broadcast rule as np.where\n"
     ]
    },
    {
     "name": "stderr",
     "output_type": "stream",
     "text": [
      "/Users/patsnap/anaconda2/lib/python3.7/site-packages/keras_contrib/layers/crf.py:346: UserWarning: CRF.loss_function is deprecated and it might be removed in the future. Please use losses.crf_loss instead.\n",
      "  warnings.warn('CRF.loss_function is deprecated '\n",
      "/Users/patsnap/anaconda2/lib/python3.7/site-packages/keras_contrib/layers/crf.py:353: UserWarning: CRF.accuracy is deprecated and it might be removed in the future. Please use metrics.crf_accuracy\n",
      "  warnings.warn('CRF.accuracy is deprecated and it '\n"
     ]
    },
    {
     "name": "stdout",
     "output_type": "stream",
     "text": [
      "_________________________________________________________________\n",
      "Layer (type)                 Output Shape              Param #   \n",
      "=================================================================\n",
      "input_1 (InputLayer)         (None, 140)               0         \n",
      "_________________________________________________________________\n",
      "embedding_1 (Embedding)      (None, 140, 300)          9052200   \n",
      "_________________________________________________________________\n",
      "bidirectional_1 (Bidirection (None, 140, 600)          1442400   \n",
      "_________________________________________________________________\n",
      "lstm_2 (LSTM)                (None, 140, 600)          2882400   \n",
      "_________________________________________________________________\n",
      "time_distributed_1 (TimeDist (None, 140, 18)           10818     \n",
      "_________________________________________________________________\n",
      "crf_1 (CRF)                  (None, 140, 18)           702       \n",
      "=================================================================\n",
      "Total params: 13,388,520\n",
      "Trainable params: 13,388,520\n",
      "Non-trainable params: 0\n",
      "_________________________________________________________________\n"
     ]
    }
   ],
   "source": [
    "adam = k.optimizers.Adam(lr=0.0005, beta_1=0.9, beta_2=0.999)\n",
    "#model.compile(optimizer=adam, loss=\"categorical_crossentropy\", metrics=[\"accuracy\"])\n",
    "model.compile(optimizer=adam, loss=crf.loss_function, metrics=[crf.accuracy, 'accuracy'])\n",
    "model.summary()"
   ]
  },
  {
   "cell_type": "markdown",
   "metadata": {},
   "source": [
    "# Save the model after each epoch if validation is better"
   ]
  },
  {
   "cell_type": "code",
   "execution_count": 29,
   "metadata": {},
   "outputs": [],
   "source": [
    "# Saving the best only\n",
    "filepath=\"ner-bi-lstm-td-model-{val_acc:.2f}.hdf5\"\n",
    "checkpoint = ModelCheckpoint(filepath, monitor='val_acc', verbose=1, save_best_only=True, mode='max')\n",
    "callbacks_list = [checkpoint]"
   ]
  },
  {
   "cell_type": "code",
   "execution_count": 30,
   "metadata": {},
   "outputs": [
    {
     "name": "stdout",
     "output_type": "stream",
     "text": [
      "WARNING:tensorflow:From /Users/patsnap/anaconda2/lib/python3.7/site-packages/keras/backend/tensorflow_backend.py:986: The name tf.assign_add is deprecated. Please use tf.compat.v1.assign_add instead.\n",
      "\n",
      "WARNING:tensorflow:From /Users/patsnap/anaconda2/lib/python3.7/site-packages/keras/backend/tensorflow_backend.py:973: The name tf.assign is deprecated. Please use tf.compat.v1.assign instead.\n",
      "\n",
      "WARNING:tensorflow:From /Users/patsnap/anaconda2/lib/python3.7/site-packages/keras/backend/tensorflow_backend.py:2741: The name tf.Session is deprecated. Please use tf.compat.v1.Session instead.\n",
      "\n",
      "Train on 22512 samples, validate on 5629 samples\n",
      "Epoch 1/1\n",
      "WARNING:tensorflow:From /Users/patsnap/anaconda2/lib/python3.7/site-packages/keras/backend/tensorflow_backend.py:174: The name tf.get_default_session is deprecated. Please use tf.compat.v1.get_default_session instead.\n",
      "\n",
      "WARNING:tensorflow:From /Users/patsnap/anaconda2/lib/python3.7/site-packages/keras/backend/tensorflow_backend.py:181: The name tf.ConfigProto is deprecated. Please use tf.compat.v1.ConfigProto instead.\n",
      "\n",
      "WARNING:tensorflow:From /Users/patsnap/anaconda2/lib/python3.7/site-packages/keras/backend/tensorflow_backend.py:190: The name tf.global_variables is deprecated. Please use tf.compat.v1.global_variables instead.\n",
      "\n",
      "WARNING:tensorflow:From /Users/patsnap/anaconda2/lib/python3.7/site-packages/keras/backend/tensorflow_backend.py:199: The name tf.is_variable_initialized is deprecated. Please use tf.compat.v1.is_variable_initialized instead.\n",
      "\n",
      "WARNING:tensorflow:From /Users/patsnap/anaconda2/lib/python3.7/site-packages/keras/backend/tensorflow_backend.py:206: The name tf.variables_initializer is deprecated. Please use tf.compat.v1.variables_initializer instead.\n",
      "\n",
      "22512/22512 [==============================] - 1231s 55ms/step - loss: 0.3298 - crf_viterbi_accuracy: 0.9375 - acc: 0.0013 - val_loss: 0.1670 - val_crf_viterbi_accuracy: 0.9677 - val_acc: 0.9677\n",
      "\n",
      "Epoch 00001: val_acc improved from -inf to 0.96773, saving model to ner-bi-lstm-td-model-0.97.hdf5\n"
     ]
    }
   ],
   "source": [
    "history = model.fit(X_train, np.array(y_train), batch_size=256, epochs=1, validation_split=0.2, verbose=1, callbacks=callbacks_list)"
   ]
  },
  {
   "cell_type": "code",
   "execution_count": 31,
   "metadata": {},
   "outputs": [],
   "source": [
    "TP = {}\n",
    "TN = {}\n",
    "FP = {}\n",
    "FN = {}\n",
    "for tag in tag2idx.keys():\n",
    "    TP[tag] = 0\n",
    "    TN[tag] = 0    \n",
    "    FP[tag] = 0    \n",
    "    FN[tag] = 0    \n",
    "\n",
    "def accumulate_score_by_tag(gt, pred):\n",
    "    \"\"\"\n",
    "    For each tag keep stats\n",
    "    \"\"\"\n",
    "    if gt == pred:\n",
    "        TP[gt] += 1\n",
    "    elif gt != 'O' and pred == 'O':\n",
    "        FN[gt] +=1\n",
    "    elif gt == 'O' and pred != 'O':\n",
    "        FP[gt] += 1\n",
    "    else:\n",
    "        TN[gt] += 1"
   ]
  },
  {
   "cell_type": "code",
   "execution_count": 32,
   "metadata": {},
   "outputs": [
    {
     "name": "stdout",
     "output_type": "stream",
     "text": [
      "[ 3  3  3  3  3  3 10  0  3  3  3  3  3 10  3  3  3  3  3  3  3  3  3  3\n",
      "  3  3  3  3  3  3  3  3  3  3  3  3  3  3  3  3  3  3  3  3  3  3  3  3\n",
      "  3  3  3  3  3  3  3  3  3  3  3  3  3  3  3  3  3  3  3  3  3  3  3  3\n",
      "  3  3  3  3  3  3  3  3  3  3  3  3  3  3  3  3  3  3  3  3  3  3  3  3\n",
      "  3  3  3  3  3  3  3  3  3  3  3  3  3  3  3  3  3  3  3  3  3  3  3  3\n",
      "  3  3  3  3  3  3  3  3  3  3  3  3  3  3  3  3  3  3  3  3]\n",
      "Word          : (True ): Pred\n",
      "The           : (O    ): O\n",
      "officials     : (O    ): O\n",
      ",             : (O    ): O\n",
      "including     : (O    ): O\n",
      "Energy        : (O    ): O\n",
      "Minister      : (O    ): O\n",
      "July          : (B-tim): O\n",
      "Moyo          : (I-tim): O\n",
      ",             : (O    ): O\n",
      "were          : (O    ): O\n",
      "initially     : (O    ): O\n",
      "suspended     : (O    ): O\n",
      "for           : (O    ): O\n",
      "six           : (B-tim): O\n",
      "months        : (O    ): O\n",
      ".             : (O    ): O\n",
      "ENDPAD        : (O    ): O\n",
      "ENDPAD        : (O    ): O\n",
      "ENDPAD        : (O    ): O\n",
      "ENDPAD        : (O    ): O\n",
      "ENDPAD        : (O    ): O\n",
      "ENDPAD        : (O    ): O\n",
      "ENDPAD        : (O    ): O\n",
      "ENDPAD        : (O    ): O\n",
      "ENDPAD        : (O    ): O\n",
      "ENDPAD        : (O    ): O\n",
      "ENDPAD        : (O    ): O\n",
      "ENDPAD        : (O    ): O\n",
      "ENDPAD        : (O    ): O\n",
      "ENDPAD        : (O    ): O\n",
      "ENDPAD        : (O    ): O\n",
      "ENDPAD        : (O    ): O\n",
      "ENDPAD        : (O    ): O\n",
      "ENDPAD        : (O    ): O\n",
      "ENDPAD        : (O    ): O\n",
      "ENDPAD        : (O    ): O\n",
      "ENDPAD        : (O    ): O\n",
      "ENDPAD        : (O    ): O\n",
      "ENDPAD        : (O    ): O\n",
      "ENDPAD        : (O    ): O\n",
      "ENDPAD        : (O    ): O\n",
      "ENDPAD        : (O    ): O\n",
      "ENDPAD        : (O    ): O\n",
      "ENDPAD        : (O    ): O\n",
      "ENDPAD        : (O    ): O\n",
      "ENDPAD        : (O    ): O\n",
      "ENDPAD        : (O    ): O\n",
      "ENDPAD        : (O    ): O\n",
      "ENDPAD        : (O    ): O\n",
      "ENDPAD        : (O    ): O\n",
      "ENDPAD        : (O    ): O\n",
      "ENDPAD        : (O    ): O\n",
      "ENDPAD        : (O    ): O\n",
      "ENDPAD        : (O    ): O\n",
      "ENDPAD        : (O    ): O\n",
      "ENDPAD        : (O    ): O\n",
      "ENDPAD        : (O    ): O\n",
      "ENDPAD        : (O    ): O\n",
      "ENDPAD        : (O    ): O\n",
      "ENDPAD        : (O    ): O\n",
      "ENDPAD        : (O    ): O\n",
      "ENDPAD        : (O    ): O\n",
      "ENDPAD        : (O    ): O\n",
      "ENDPAD        : (O    ): O\n",
      "ENDPAD        : (O    ): O\n",
      "ENDPAD        : (O    ): O\n",
      "ENDPAD        : (O    ): O\n",
      "ENDPAD        : (O    ): O\n",
      "ENDPAD        : (O    ): O\n",
      "ENDPAD        : (O    ): O\n",
      "ENDPAD        : (O    ): O\n",
      "ENDPAD        : (O    ): O\n",
      "ENDPAD        : (O    ): O\n",
      "ENDPAD        : (O    ): O\n",
      "ENDPAD        : (O    ): O\n",
      "ENDPAD        : (O    ): O\n",
      "ENDPAD        : (O    ): O\n",
      "ENDPAD        : (O    ): O\n",
      "ENDPAD        : (O    ): O\n",
      "ENDPAD        : (O    ): O\n",
      "ENDPAD        : (O    ): O\n",
      "ENDPAD        : (O    ): O\n",
      "ENDPAD        : (O    ): O\n",
      "ENDPAD        : (O    ): O\n",
      "ENDPAD        : (O    ): O\n",
      "ENDPAD        : (O    ): O\n",
      "ENDPAD        : (O    ): O\n",
      "ENDPAD        : (O    ): O\n",
      "ENDPAD        : (O    ): O\n",
      "ENDPAD        : (O    ): O\n",
      "ENDPAD        : (O    ): O\n",
      "ENDPAD        : (O    ): O\n",
      "ENDPAD        : (O    ): O\n",
      "ENDPAD        : (O    ): O\n",
      "ENDPAD        : (O    ): O\n",
      "ENDPAD        : (O    ): O\n",
      "ENDPAD        : (O    ): O\n",
      "ENDPAD        : (O    ): O\n",
      "ENDPAD        : (O    ): O\n",
      "ENDPAD        : (O    ): O\n",
      "ENDPAD        : (O    ): O\n",
      "ENDPAD        : (O    ): O\n",
      "ENDPAD        : (O    ): O\n",
      "ENDPAD        : (O    ): O\n",
      "ENDPAD        : (O    ): O\n",
      "ENDPAD        : (O    ): O\n",
      "ENDPAD        : (O    ): O\n",
      "ENDPAD        : (O    ): O\n",
      "ENDPAD        : (O    ): O\n",
      "ENDPAD        : (O    ): O\n",
      "ENDPAD        : (O    ): O\n",
      "ENDPAD        : (O    ): O\n",
      "ENDPAD        : (O    ): O\n",
      "ENDPAD        : (O    ): O\n",
      "ENDPAD        : (O    ): O\n",
      "ENDPAD        : (O    ): O\n",
      "ENDPAD        : (O    ): O\n",
      "ENDPAD        : (O    ): O\n",
      "ENDPAD        : (O    ): O\n",
      "ENDPAD        : (O    ): O\n",
      "ENDPAD        : (O    ): O\n",
      "ENDPAD        : (O    ): O\n",
      "ENDPAD        : (O    ): O\n",
      "ENDPAD        : (O    ): O\n",
      "ENDPAD        : (O    ): O\n",
      "ENDPAD        : (O    ): O\n",
      "ENDPAD        : (O    ): O\n",
      "ENDPAD        : (O    ): O\n",
      "ENDPAD        : (O    ): O\n",
      "ENDPAD        : (O    ): O\n",
      "ENDPAD        : (O    ): O\n",
      "ENDPAD        : (O    ): O\n",
      "ENDPAD        : (O    ): O\n",
      "ENDPAD        : (O    ): O\n",
      "ENDPAD        : (O    ): O\n",
      "ENDPAD        : (O    ): O\n",
      "ENDPAD        : (O    ): O\n",
      "ENDPAD        : (O    ): O\n",
      "ENDPAD        : (O    ): O\n",
      "ENDPAD        : (O    ): O\n"
     ]
    }
   ],
   "source": [
    "i = 357\n",
    "p = model.predict(np.array([X_test[i]]))\n",
    "p = np.argmax(p, axis=-1)\n",
    "gt = np.argmax(y_test[i], axis=-1)\n",
    "print(gt)\n",
    "print(\"{:14}: ({:5}): {}\".format(\"Word\", \"True\", \"Pred\"))\n",
    "for idx, (w,pred) in enumerate(zip(X_test[i],p[0])):\n",
    "    #\n",
    "    print(\"{:14}: ({:5}): {}\".format(words[w],idx2tag[gt[idx]],tags[pred]))"
   ]
  },
  {
   "cell_type": "code",
   "execution_count": 33,
   "metadata": {},
   "outputs": [],
   "source": [
    "p = model.predict(np.array(X_test))  "
   ]
  },
  {
   "cell_type": "code",
   "execution_count": 34,
   "metadata": {},
   "outputs": [],
   "source": [
    "from sklearn.metrics import classification_report"
   ]
  },
  {
   "cell_type": "code",
   "execution_count": 35,
   "metadata": {},
   "outputs": [
    {
     "data": {
      "text/plain": [
       "array([3, 3, 3, 3, 3, 3, 3, 3, 3, 3, 3, 3, 3, 3, 3, 3, 3, 3, 3, 3, 3, 3,\n",
       "       3, 3, 3, 3, 3, 3, 3, 3, 3, 3, 3, 3, 3, 3, 3, 3, 3, 3, 3, 3, 3, 3,\n",
       "       3, 3, 3, 3, 3, 3, 3, 3, 3, 3, 3, 3, 3, 3, 3, 3, 3, 3, 3, 3, 3, 3,\n",
       "       3, 3, 3, 3, 3, 3, 3, 3, 3, 3, 3, 3, 3, 3, 3, 3, 3, 3, 3, 3, 3, 3,\n",
       "       3, 3, 3, 3, 3, 3, 3, 3, 3, 3, 3, 3, 3, 3, 3, 3, 3, 3, 3, 3, 3, 3,\n",
       "       3, 3, 3, 3, 3, 3, 3, 3, 3, 3, 3, 3, 3, 3, 3, 3, 3, 3, 3, 3, 3, 3,\n",
       "       3, 3, 3, 3, 3, 3, 3, 3])"
      ]
     },
     "execution_count": 35,
     "metadata": {},
     "output_type": "execute_result"
    }
   ],
   "source": [
    "np.argmax(p, axis=2)[0]"
   ]
  },
  {
   "cell_type": "code",
   "execution_count": 36,
   "metadata": {},
   "outputs": [
    {
     "name": "stderr",
     "output_type": "stream",
     "text": [
      "/Users/patsnap/anaconda2/lib/python3.7/site-packages/sklearn/metrics/classification.py:1437: UndefinedMetricWarning: Precision and F-score are ill-defined and being set to 0.0 in labels with no predicted samples.\n",
      "/Users/patsnap/anaconda2/lib/python3.7/site-packages/sklearn/metrics/classification.py:1439: UndefinedMetricWarning: Recall and F-score are ill-defined and being set to 0.0 in labels with no true samples.\n"
     ]
    },
    {
     "name": "stdout",
     "output_type": "stream",
     "text": [
      "              precision    recall  f1-score   support\n",
      "\n",
      "       I-tim       0.00      0.00      0.00      1259\n",
      "       B-eve       0.00      0.00      0.00        61\n",
      "         unk       0.00      0.00      0.00         0\n",
      "           O       0.97      1.00      0.98    952440\n",
      "       B-per       0.00      0.00      0.00      3401\n",
      "       B-art       0.00      0.00      0.00        96\n",
      "       B-geo       0.00      0.00      0.00      7618\n",
      "       I-eve       0.00      0.00      0.00        46\n",
      "       I-per       0.00      0.00      0.00      3539\n",
      "       I-nat       0.00      0.00      0.00        19\n",
      "       B-tim       0.00      0.00      0.00      4056\n",
      "       B-gpe       0.00      0.00      0.00      3321\n",
      "       B-org       0.00      0.00      0.00      4110\n",
      "       I-org       0.00      0.00      0.00      3374\n",
      "       I-art       0.00      0.00      0.00        70\n",
      "       B-nat       0.00      0.00      0.00        62\n",
      "       I-gpe       0.00      0.00      0.00        40\n",
      "       I-geo       0.00      0.00      0.00      1528\n",
      "\n",
      "   micro avg       0.97      0.97      0.97    985040\n",
      "   macro avg       0.05      0.06      0.05    985040\n",
      "weighted avg       0.93      0.97      0.95    985040\n",
      "\n"
     ]
    }
   ],
   "source": [
    "print(classification_report(np.argmax(y_test, 2).ravel(), np.argmax(p, axis=2).ravel(),labels=list(idx2tag.keys()), target_names=list(idx2tag.values())))"
   ]
  },
  {
   "cell_type": "code",
   "execution_count": 37,
   "metadata": {},
   "outputs": [],
   "source": [
    "for i, sentence in enumerate(X_test):\n",
    "    y_hat = np.argmax(p[i], axis=-1)\n",
    "    gt = np.argmax(y_test[i], axis=-1)\n",
    "    for idx, (w,pred) in enumerate(zip(sentence,y_hat)):\n",
    "        accumulate_score_by_tag(idx2tag[gt[idx]],tags[pred])"
   ]
  },
  {
   "cell_type": "code",
   "execution_count": 38,
   "metadata": {},
   "outputs": [
    {
     "name": "stdout",
     "output_type": "stream",
     "text": [
      "tag:I-tim\n",
      "\t TN:         0\tFP:         0\n",
      "\t FN:      1259\tTP:         0\n",
      "tag:B-eve\n",
      "\t TN:         0\tFP:         0\n",
      "\t FN:        61\tTP:         0\n",
      "tag:unk\n",
      "\t TN:         0\tFP:         0\n",
      "\t FN:         0\tTP:         0\n",
      "tag:O\n",
      "\t TN:         0\tFP:         0\n",
      "\t FN:         0\tTP:    952440\n",
      "tag:B-per\n",
      "\t TN:         0\tFP:         0\n",
      "\t FN:      3401\tTP:         0\n",
      "tag:B-art\n",
      "\t TN:         0\tFP:         0\n",
      "\t FN:        96\tTP:         0\n",
      "tag:B-geo\n",
      "\t TN:         0\tFP:         0\n",
      "\t FN:      7618\tTP:         0\n",
      "tag:I-eve\n",
      "\t TN:         0\tFP:         0\n",
      "\t FN:        46\tTP:         0\n",
      "tag:I-per\n",
      "\t TN:         0\tFP:         0\n",
      "\t FN:      3539\tTP:         0\n",
      "tag:I-nat\n",
      "\t TN:         0\tFP:         0\n",
      "\t FN:        19\tTP:         0\n",
      "tag:B-tim\n",
      "\t TN:         0\tFP:         0\n",
      "\t FN:      4056\tTP:         0\n",
      "tag:B-gpe\n",
      "\t TN:         0\tFP:         0\n",
      "\t FN:      3321\tTP:         0\n",
      "tag:B-org\n",
      "\t TN:         0\tFP:         0\n",
      "\t FN:      4110\tTP:         0\n",
      "tag:I-org\n",
      "\t TN:         0\tFP:         0\n",
      "\t FN:      3374\tTP:         0\n",
      "tag:I-art\n",
      "\t TN:         0\tFP:         0\n",
      "\t FN:        70\tTP:         0\n",
      "tag:B-nat\n",
      "\t TN:         0\tFP:         0\n",
      "\t FN:        62\tTP:         0\n",
      "tag:I-gpe\n",
      "\t TN:         0\tFP:         0\n",
      "\t FN:        40\tTP:         0\n",
      "tag:I-geo\n",
      "\t TN:         0\tFP:         0\n",
      "\t FN:      1528\tTP:         0\n"
     ]
    }
   ],
   "source": [
    "for tag in tag2idx.keys():\n",
    "    print(f'tag:{tag}')    \n",
    "    print('\\t TN:{:10}\\tFP:{:10}'.format(TN[tag],FP[tag]))\n",
    "    print('\\t FN:{:10}\\tTP:{:10}'.format(FN[tag],TP[tag]))   "
   ]
  },
  {
   "cell_type": "code",
   "execution_count": null,
   "metadata": {},
   "outputs": [],
   "source": []
  },
  {
   "cell_type": "code",
   "execution_count": null,
   "metadata": {},
   "outputs": [],
   "source": []
  }
 ],
 "metadata": {
  "kernelspec": {
   "display_name": "Python 3",
   "language": "python",
   "name": "python3"
  },
  "language_info": {
   "codemirror_mode": {
    "name": "ipython",
    "version": 3
   },
   "file_extension": ".py",
   "mimetype": "text/x-python",
   "name": "python",
   "nbconvert_exporter": "python",
   "pygments_lexer": "ipython3",
   "version": "3.7.5"
  }
 },
 "nbformat": 4,
 "nbformat_minor": 2
}
