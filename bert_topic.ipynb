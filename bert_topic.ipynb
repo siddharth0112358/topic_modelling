{
 "cells": [
  {
   "cell_type": "code",
   "execution_count": 2,
   "metadata": {},
   "outputs": [
    {
     "name": "stdout",
     "output_type": "stream",
     "text": [
      "Collecting bertopic\n",
      "  Downloading bertopic-0.1.2.tar.gz (10 kB)\n",
      "Requirement already satisfied: torch in /Users/sdeshpande/opt/anaconda3/lib/python3.8/site-packages (from bertopic) (1.6.0)\n",
      "Requirement already satisfied: tqdm in /Users/sdeshpande/opt/anaconda3/lib/python3.8/site-packages (from bertopic) (4.47.0)\n",
      "Requirement already satisfied: numpy in /Users/sdeshpande/opt/anaconda3/lib/python3.8/site-packages (from bertopic) (1.16.1)\n",
      "Collecting umap-learn\n",
      "  Downloading umap-learn-0.4.6.tar.gz (69 kB)\n",
      "\u001b[K     |████████████████████████████████| 69 kB 7.3 MB/s  eta 0:00:01\n",
      "\u001b[?25hCollecting hdbscan\n",
      "  Downloading hdbscan-0.8.26.tar.gz (4.7 MB)\n",
      "\u001b[K     |████████████████████████████████| 4.7 MB 16.7 MB/s eta 0:00:01\n",
      "\u001b[?25h  Installing build dependencies ... \u001b[?25ldone\n",
      "\u001b[?25h  Getting requirements to build wheel ... \u001b[?25ldone\n",
      "\u001b[?25h    Preparing wheel metadata ... \u001b[?25ldone\n",
      "\u001b[?25hRequirement already satisfied: pandas in /Users/sdeshpande/opt/anaconda3/lib/python3.8/site-packages (from bertopic) (1.0.5)\n",
      "Requirement already satisfied: scikit_learn in /Users/sdeshpande/opt/anaconda3/lib/python3.8/site-packages (from bertopic) (0.23.1)\n",
      "Requirement already satisfied: sentence_transformers in /Users/sdeshpande/opt/anaconda3/lib/python3.8/site-packages (from bertopic) (0.3.5.1)\n",
      "Requirement already satisfied: joblib in /Users/sdeshpande/opt/anaconda3/lib/python3.8/site-packages (from bertopic) (0.16.0)\n",
      "Requirement already satisfied: future in /Users/sdeshpande/opt/anaconda3/lib/python3.8/site-packages (from torch->bertopic) (0.18.2)\n",
      "Requirement already satisfied: scipy>=1.3.1 in /Users/sdeshpande/opt/anaconda3/lib/python3.8/site-packages (from umap-learn->bertopic) (1.5.2)\n",
      "Requirement already satisfied: numba!=0.47,>=0.46 in /Users/sdeshpande/opt/anaconda3/lib/python3.8/site-packages (from umap-learn->bertopic) (0.50.1)\n",
      "Requirement already satisfied: six in /Users/sdeshpande/opt/anaconda3/lib/python3.8/site-packages (from hdbscan->bertopic) (1.12.0)\n",
      "Requirement already satisfied: cython>=0.27 in /Users/sdeshpande/opt/anaconda3/lib/python3.8/site-packages (from hdbscan->bertopic) (0.29.21)\n",
      "Requirement already satisfied: python-dateutil>=2.6.1 in /Users/sdeshpande/opt/anaconda3/lib/python3.8/site-packages (from pandas->bertopic) (2.8.1)\n",
      "Requirement already satisfied: pytz>=2017.2 in /Users/sdeshpande/opt/anaconda3/lib/python3.8/site-packages (from pandas->bertopic) (2020.1)\n",
      "Requirement already satisfied: threadpoolctl>=2.0.0 in /Users/sdeshpande/opt/anaconda3/lib/python3.8/site-packages (from scikit_learn->bertopic) (2.1.0)\n",
      "Requirement already satisfied: transformers==3.0.2 in /Users/sdeshpande/opt/anaconda3/lib/python3.8/site-packages (from sentence_transformers->bertopic) (3.0.2)\n",
      "Requirement already satisfied: nltk in /Users/sdeshpande/opt/anaconda3/lib/python3.8/site-packages (from sentence_transformers->bertopic) (3.5)\n",
      "Requirement already satisfied: llvmlite<0.34,>=0.33.0.dev0 in /Users/sdeshpande/opt/anaconda3/lib/python3.8/site-packages (from numba!=0.47,>=0.46->umap-learn->bertopic) (0.33.0+1.g022ab0f)\n",
      "Requirement already satisfied: setuptools in /Users/sdeshpande/opt/anaconda3/lib/python3.8/site-packages (from numba!=0.47,>=0.46->umap-learn->bertopic) (49.2.0.post20200714)\n",
      "Requirement already satisfied: tokenizers==0.8.1.rc1 in /Users/sdeshpande/opt/anaconda3/lib/python3.8/site-packages (from transformers==3.0.2->sentence_transformers->bertopic) (0.8.1rc1)\n",
      "Requirement already satisfied: filelock in /Users/sdeshpande/opt/anaconda3/lib/python3.8/site-packages (from transformers==3.0.2->sentence_transformers->bertopic) (3.0.12)\n",
      "Requirement already satisfied: sacremoses in /Users/sdeshpande/opt/anaconda3/lib/python3.8/site-packages (from transformers==3.0.2->sentence_transformers->bertopic) (0.0.43)\n",
      "Requirement already satisfied: regex!=2019.12.17 in /Users/sdeshpande/opt/anaconda3/lib/python3.8/site-packages (from transformers==3.0.2->sentence_transformers->bertopic) (2020.6.8)\n",
      "Requirement already satisfied: sentencepiece!=0.1.92 in /Users/sdeshpande/opt/anaconda3/lib/python3.8/site-packages (from transformers==3.0.2->sentence_transformers->bertopic) (0.1.91)\n",
      "Requirement already satisfied: requests in /Users/sdeshpande/opt/anaconda3/lib/python3.8/site-packages (from transformers==3.0.2->sentence_transformers->bertopic) (2.24.0)\n",
      "Requirement already satisfied: packaging in /Users/sdeshpande/opt/anaconda3/lib/python3.8/site-packages (from transformers==3.0.2->sentence_transformers->bertopic) (20.4)\n",
      "Requirement already satisfied: click in /Users/sdeshpande/opt/anaconda3/lib/python3.8/site-packages (from nltk->sentence_transformers->bertopic) (7.1.2)\n",
      "Requirement already satisfied: urllib3!=1.25.0,!=1.25.1,<1.26,>=1.21.1 in /Users/sdeshpande/opt/anaconda3/lib/python3.8/site-packages (from requests->transformers==3.0.2->sentence_transformers->bertopic) (1.25.9)\n",
      "Requirement already satisfied: idna<3,>=2.5 in /Users/sdeshpande/opt/anaconda3/lib/python3.8/site-packages (from requests->transformers==3.0.2->sentence_transformers->bertopic) (2.10)\n",
      "Requirement already satisfied: chardet<4,>=3.0.2 in /Users/sdeshpande/opt/anaconda3/lib/python3.8/site-packages (from requests->transformers==3.0.2->sentence_transformers->bertopic) (3.0.4)\n",
      "Requirement already satisfied: certifi>=2017.4.17 in /Users/sdeshpande/opt/anaconda3/lib/python3.8/site-packages (from requests->transformers==3.0.2->sentence_transformers->bertopic) (2020.6.20)\n",
      "Requirement already satisfied: pyparsing>=2.0.2 in /Users/sdeshpande/opt/anaconda3/lib/python3.8/site-packages (from packaging->transformers==3.0.2->sentence_transformers->bertopic) (2.4.7)\n",
      "Building wheels for collected packages: bertopic, umap-learn, hdbscan\n",
      "  Building wheel for bertopic (setup.py) ... \u001b[?25ldone\n",
      "\u001b[?25h  Created wheel for bertopic: filename=bertopic-0.1.2-py3-none-any.whl size=9611 sha256=7695f84723e9415f00d4206dcf57eaefed17f98c39c9770cdfd4c0d81a14a971\n",
      "  Stored in directory: /Users/sdeshpande/Library/Caches/pip/wheels/19/ed/ad/679c2090b7b1894f6f8122a06db31dc4bb63311583d6606361\n",
      "  Building wheel for umap-learn (setup.py) ... \u001b[?25ldone\n",
      "\u001b[?25h  Created wheel for umap-learn: filename=umap_learn-0.4.6-py3-none-any.whl size=67950 sha256=46c2cddc3967aa40e36872453ef1cb6dffdcb6855cb650396ac22a01224f2cb4\n",
      "  Stored in directory: /Users/sdeshpande/Library/Caches/pip/wheels/9c/18/d0/2bcf7df75d19c6ca6ff8097b12abd4c46879e9a8275e93e651\n",
      "  Building wheel for hdbscan (PEP 517) ... \u001b[?25ldone\n",
      "\u001b[?25h  Created wheel for hdbscan: filename=hdbscan-0.8.26-cp38-cp38-macosx_10_9_x86_64.whl size=697517 sha256=9eb169d9098f409af1f1ec9170bb75cf4c76d0f09137e55e7a54c8e7c4153289\n",
      "  Stored in directory: /Users/sdeshpande/Library/Caches/pip/wheels/eb/81/cf/9a05377f03cf1b5b057841c6ba5deac8b9926630c6bcd423e5\n",
      "Successfully built bertopic umap-learn hdbscan\n",
      "\u001b[31mERROR: umap-learn 0.4.6 has requirement numpy>=1.17, but you'll have numpy 1.16.1 which is incompatible.\u001b[0m\n",
      "Installing collected packages: umap-learn, hdbscan, bertopic\n",
      "Successfully installed bertopic-0.1.2 hdbscan-0.8.26 umap-learn-0.4.6\n"
     ]
    }
   ],
   "source": [
    "!pip install bertopic"
   ]
  },
  {
   "cell_type": "code",
   "execution_count": 3,
   "metadata": {},
   "outputs": [],
   "source": [
    "from bertopic import BERTopic\n",
    "from sklearn.datasets import fetch_20newsgroups"
   ]
  },
  {
   "cell_type": "code",
   "execution_count": 4,
   "metadata": {},
   "outputs": [],
   "source": [
    "docs = fetch_20newsgroups(subset = \"all\")['data']"
   ]
  },
  {
   "cell_type": "code",
   "execution_count": 7,
   "metadata": {},
   "outputs": [
    {
     "data": {
      "text/plain": [
       "[\"From: Mamatha Devineni Ratnam <mr47+@andrew.cmu.edu>\\nSubject: Pens fans reactions\\nOrganization: Post Office, Carnegie Mellon, Pittsburgh, PA\\nLines: 12\\nNNTP-Posting-Host: po4.andrew.cmu.edu\\n\\n\\n\\nI am sure some bashers of Pens fans are pretty confused about the lack\\nof any kind of posts about the recent Pens massacre of the Devils. Actually,\\nI am  bit puzzled too and a bit relieved. However, I am going to put an end\\nto non-PIttsburghers' relief with a bit of praise for the Pens. Man, they\\nare killing those Devils worse than I thought. Jagr just showed you why\\nhe is much better than his regular season stats. He is also a lot\\nfo fun to watch in the playoffs. Bowman should let JAgr have a lot of\\nfun in the next couple of games since the Pens are going to beat the pulp out of Jersey anyway. I was very disappointed not to see the Islanders lose the final\\nregular season game.          PENS RULE!!!\\n\\n\",\n",
       " 'From: mblawson@midway.ecn.uoknor.edu (Matthew B Lawson)\\nSubject: Which high-performance VLB video card?\\nSummary: Seek recommendations for VLB video card\\nNntp-Posting-Host: midway.ecn.uoknor.edu\\nOrganization: Engineering Computer Network, University of Oklahoma, Norman, OK, USA\\nKeywords: orchid, stealth, vlb\\nLines: 21\\n\\n  My brother is in the market for a high-performance video card that supports\\nVESA local bus with 1-2MB RAM.  Does anyone have suggestions/ideas on:\\n\\n  - Diamond Stealth Pro Local Bus\\n\\n  - Orchid Farenheit 1280\\n\\n  - ATI Graphics Ultra Pro\\n\\n  - Any other high-performance VLB card\\n\\n\\nPlease post or email.  Thank you!\\n\\n  - Matt\\n\\n-- \\n    |  Matthew B. Lawson <------------> (mblawson@essex.ecn.uoknor.edu)  |   \\n  --+-- \"Now I, Nebuchadnezzar, praise and exalt and glorify the King  --+-- \\n    |   of heaven, because everything he does is right and all his ways  |   \\n    |   are just.\" - Nebuchadnezzar, king of Babylon, 562 B.C.           |   \\n']"
      ]
     },
     "execution_count": 7,
     "metadata": {},
     "output_type": "execute_result"
    }
   ],
   "source": [
    "docs[0:2]"
   ]
  },
  {
   "cell_type": "code",
   "execution_count": 8,
   "metadata": {},
   "outputs": [],
   "source": [
    "model = BERTopic(\"distilbert-base-nli-mean-tokens\", verbose = True)"
   ]
  },
  {
   "cell_type": "code",
   "execution_count": 10,
   "metadata": {},
   "outputs": [
    {
     "name": "stderr",
     "output_type": "stream",
     "text": [
      "100%|██████████| 245M/245M [01:27<00:00, 2.78MB/s] \n",
      "2020-10-07 21:10:59,186 - BERTopic - Loaded BERT model\n",
      "INFO:BERTopic:Loaded BERT model\n",
      "2020-10-07 22:02:06,385 - BERTopic - Transformed documents to Embeddings\n",
      "INFO:BERTopic:Transformed documents to Embeddings\n",
      "2020-10-07 22:02:28,894 - BERTopic - Reduced dimensionality with UMAP\n",
      "INFO:BERTopic:Reduced dimensionality with UMAP\n",
      "2020-10-07 22:02:30,391 - BERTopic - Clustered UMAP embeddings with HDBSCAN\n",
      "INFO:BERTopic:Clustered UMAP embeddings with HDBSCAN\n"
     ]
    }
   ],
   "source": [
    "topics = model.fit_transform(docs)"
   ]
  },
  {
   "cell_type": "code",
   "execution_count": 14,
   "metadata": {},
   "outputs": [
    {
     "data": {
      "text/plain": [
       "[('convex', 0.07602941730049768),\n",
       " ('oracle', 0.06772520968891954),\n",
       " ('user', 0.03747663777569455),\n",
       " ('corp', 0.02730055418444187),\n",
       " ('expressed', 0.02564101155029888),\n",
       " ('necessarily', 0.023600587283884086),\n",
       " ('disclaimer', 0.021463059486997022),\n",
       " ('ebosco', 0.02000600836244748),\n",
       " ('written', 0.019597985830825178),\n",
       " ('richardson', 0.017863041902305164),\n",
       " ('opinions', 0.017559752888837214),\n",
       " ('unauthenticated', 0.016449944082242828),\n",
       " ('corporation', 0.01617360620289017),\n",
       " ('message', 0.015852035041978067),\n",
       " ('shores', 0.01455510618592542),\n",
       " ('redwood', 0.013812115924325928),\n",
       " ('tx', 0.0138021822151887),\n",
       " ('computer', 0.01339758902198048),\n",
       " ('ericsson', 0.011568485040240672),\n",
       " ('gardner', 0.009480623352374986)]"
      ]
     },
     "execution_count": 14,
     "metadata": {},
     "output_type": "execute_result"
    }
   ],
   "source": [
    "model.get_topic(2)"
   ]
  },
  {
   "cell_type": "code",
   "execution_count": 15,
   "metadata": {},
   "outputs": [
    {
     "data": {
      "text/plain": [
       "[('br', 0.0726737682733677),\n",
       " ('isc', 0.06556791342097114),\n",
       " ('thor', 0.05166189675996656),\n",
       " ('steveh', 0.05047053960223185),\n",
       " ('hendricks', 0.042431836176719216),\n",
       " ('government', 0.03872162207028965),\n",
       " ('libertarians', 0.03297923384257606),\n",
       " ('libertarianism', 0.023224886827107084),\n",
       " ('limiting', 0.023183987427946397),\n",
       " ('steve', 0.022855991540441448),\n",
       " ('regulation', 0.021734432504633697),\n",
       " ('grinch', 0.021332174133668814),\n",
       " ('libertarian', 0.021147460762269307),\n",
       " ('govt', 0.02062844269271747),\n",
       " ('employment', 0.019700495367762492),\n",
       " ('concentrate', 0.018114775186821797),\n",
       " ('tamu', 0.016744922994033885),\n",
       " ('8826', 0.013460791228317122),\n",
       " ('hofferbert', 0.013460791228317122),\n",
       " ('gmw0622', 0.01318678733932095)]"
      ]
     },
     "execution_count": 15,
     "metadata": {},
     "output_type": "execute_result"
    }
   ],
   "source": [
    "model.get_topic(9)"
   ]
  },
  {
   "cell_type": "code",
   "execution_count": 16,
   "metadata": {},
   "outputs": [
    {
     "data": {
      "text/plain": [
       "[('oort', 0.05579085357248414),\n",
       " ('gamma', 0.047427953290967495),\n",
       " ('bursters', 0.04581681825100595),\n",
       " ('cloud', 0.038767183127862016),\n",
       " ('detectors', 0.030233014809186182),\n",
       " ('mankato', 0.029715696307755276),\n",
       " ('ray', 0.02905975016048446),\n",
       " ('burst', 0.026959893833723683),\n",
       " ('proton', 0.024885424457525136),\n",
       " ('grbs', 0.024720845214279048),\n",
       " ('energetic', 0.023944360731756445),\n",
       " ('vax1', 0.023803449481111),\n",
       " ('steinly', 0.023310581461839872),\n",
       " ('galactic', 0.02318945297615242),\n",
       " ('topaz', 0.023172003257191088),\n",
       " ('centaur', 0.023172003257191088),\n",
       " ('batse', 0.023077577447130543),\n",
       " ('ptolemy', 0.02227736372342443),\n",
       " ('msus', 0.022012357432521952),\n",
       " ('mechanism', 0.021651052310191758)]"
      ]
     },
     "execution_count": 16,
     "metadata": {},
     "output_type": "execute_result"
    }
   ],
   "source": [
    "model.get_topic(12)"
   ]
  },
  {
   "cell_type": "code",
   "execution_count": null,
   "metadata": {},
   "outputs": [],
   "source": []
  }
 ],
 "metadata": {
  "kernelspec": {
   "display_name": "Python 3",
   "language": "python",
   "name": "python3"
  },
  "language_info": {
   "codemirror_mode": {
    "name": "ipython",
    "version": 3
   },
   "file_extension": ".py",
   "mimetype": "text/x-python",
   "name": "python",
   "nbconvert_exporter": "python",
   "pygments_lexer": "ipython3",
   "version": "3.8.3"
  }
 },
 "nbformat": 4,
 "nbformat_minor": 4
}
